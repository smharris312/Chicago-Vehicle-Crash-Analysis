{
 "cells": [
  {
   "cell_type": "markdown",
   "metadata": {},
   "source": [
    "### In this notebook we define a logistic regression model to predict whether an individual experiences death or a severe injury in a crash. We will optimize the hyperparameters of the model to determine the best solver and inverse of the regularization strength for our model. Our goal is to maximize recall while still maintaining some level of accuracy. We will also look to maximize the AUC score. "
   ]
  },
  {
   "cell_type": "code",
   "execution_count": 51,
   "metadata": {},
   "outputs": [],
   "source": [
    "#Import packages\n",
    "import pandas as pd\n",
    "import numpy as np\n",
    "from datetime import datetime\n",
    "import matplotlib.pyplot as plt\n",
    "import seaborn as sns\n",
    "from sklearn.model_selection import cross_val_score, train_test_split\n",
    "from sklearn.linear_model import LinearRegression, LogisticRegression\n",
    "from sklearn.preprocessing import StandardScaler, OneHotEncoder\n",
    "from sklearn.impute import SimpleImputer\n",
    "from imblearn.over_sampling import SMOTE\n",
    "from sklearn.metrics import accuracy_score, precision_score, recall_score, f1_score, roc_auc_score, roc_curve\n",
    "from sklearn.model_selection import GridSearchCV\n",
    "from sklearn import svm\n",
    "import random\n",
    "import warnings\n",
    "warnings.filterwarnings(\"ignore\")"
   ]
  },
  {
   "cell_type": "code",
   "execution_count": 52,
   "metadata": {},
   "outputs": [],
   "source": [
    "#Read in data\n",
    "df=pd.read_csv('data/df.csv')"
   ]
  },
  {
   "cell_type": "markdown",
   "metadata": {},
   "source": [
    "First we will clean the data and define new columns for our analysis."
   ]
  },
  {
   "cell_type": "code",
   "execution_count": 53,
   "metadata": {},
   "outputs": [],
   "source": [
    "physical_condition_values = ['IMPAIRED - ALCOHOL', 'HAD BEEN DRINKING', 'IMPAIRED - DRUGS', 'IMPAIRED - ALCOHOL AND DRUGS', 'MEDICATED']\n",
    "cause_values = ['HAD BEEN DRINKING (USE WHEN ARREST IS NOT MADE)', 'UNDER THE INFLUENCE OF ALCOHOL/DRUGS (USE WHEN ARREST IS EFFECTED)']\n",
    "\n",
    "df['Under_Influence'] = ((df['PHYSICAL_CONDITION'].isin(physical_condition_values)) |\n",
    "                         (df['PRIM_CONTRIBUTORY_CAUSE'].isin(cause_values)) |\n",
    "                         (df['SEC_CONTRIBUTORY_CAUSE'].isin(cause_values)) |\n",
    "                         ((df['BAC_RESULT_VALUE'] > 0.00) & (df['AGE'] < 21)) |\n",
    "                         ((df['BAC_RESULT_VALUE'] >= 0.08) & (df['AGE'] >= 21))).astype(int)\n",
    "#Drop unnecessary column\n",
    "df.drop(['Unnamed: 0'], axis=1, inplace=True)\n",
    "\n",
    "#Set age values to null when data shows a driver under 12 years old\n",
    "df['AGE'] = df['AGE'].abs()\n",
    "df.loc[(df['AGE'] == 0.0) & (df['PERSON_TYPE'] == 'DRIVER'), 'AGE'] = np.nan\n",
    "df.loc[(df['AGE'] < 12.0) & (df['PERSON_TYPE'] == 'DRIVER'), 'AGE'] = np.nan\n",
    "\n",
    "df.loc[df['BAC_RESULT']==\"TEST PERFORMED, RESULTS UNKNOWN\", 'BAC_RESULT']='TEST TAKEN'\n",
    "\n",
    "#Change nulls to 0 for injury columns with missing data\n",
    "df['INJURIES_FATAL'].fillna(0, inplace=True)\n",
    "df['INJURIES_INCAPACITATING'].fillna(0, inplace=True)\n",
    "df['Total_Serious_Injuries']=df['INJURIES_FATAL']+df['INJURIES_INCAPACITATING']\n",
    "df['Has_Serious_Injury']=df['Total_Serious_Injuries'].apply(lambda x: 1 if x>0 else 0)"
   ]
  },
  {
   "cell_type": "code",
   "execution_count": 54,
   "metadata": {},
   "outputs": [],
   "source": [
    "#Separate our X and y variables\n",
    "y=df['Has_Serious_Injury']\n",
    "X=df[['PERSON_TYPE', 'SEX', 'AGE', \n",
    "       'DRIVER_ACTION', 'DRIVER_VISION', 'PHYSICAL_CONDITION', 'BAC_RESULT', 'BAC_RESULT_VALUE',\n",
    "       'is_driver', 'total_drivers_in_crash', \n",
    "       'CRASH_HOUR', 'POSTED_SPEED_LIMIT', 'WEATHER_CONDITION', 'LIGHTING_CONDITION',\n",
    "       'ROAD_DEFECT', 'CRASH_TYPE',\n",
    "       'HIT_AND_RUN_I', 'PRIM_CONTRIBUTORY_CAUSE', 'Under_Influence']]"
   ]
  },
  {
   "cell_type": "code",
   "execution_count": 55,
   "metadata": {},
   "outputs": [],
   "source": [
    "#Train test split\n",
    "X_train, X_test, y_train, y_test=train_test_split(X, y, random_state=10)"
   ]
  },
  {
   "cell_type": "code",
   "execution_count": 56,
   "metadata": {},
   "outputs": [],
   "source": [
    "#Impute median BAC value when test was taken and result not recorded. If test was not offered impute 0\n",
    "bac_median=X_train['BAC_RESULT_VALUE'].median()\n",
    "X_train.loc[X_train['BAC_RESULT_VALUE'].isna(), 'BAC_RESULT_VALUE']=X_train['BAC_RESULT'].apply(lambda x: 0 if x=='TEST NOT OFFERED' else bac_median)\n",
    "X_test.loc[X_test['BAC_RESULT_VALUE'].isna(), 'BAC_RESULT_VALUE']=X_test['BAC_RESULT'].apply(lambda x: 0 if x=='TEST NOT OFFERED' else bac_median)\n",
    "\n",
    "#Clean up columns with redundant different values\n",
    "X_train['DRIVER_ACTION'].fillna('UNKNOWN', inplace=True)\n",
    "X_train['DRIVER_ACTION']=X_train['DRIVER_ACTION'].apply(lambda x: 'UNKNOWN' if x=='NONE' else x)\n",
    "\n",
    "X_test['DRIVER_ACTION'].fillna('UNKNOWN', inplace=True)\n",
    "X_test['DRIVER_ACTION']=X_test['DRIVER_ACTION'].apply(lambda x: 'UNKNOWN' if x=='NONE' else x)\n",
    "\n",
    "X_train['DRIVER_VISION']=X_train['DRIVER_VISION'].apply(lambda x: 'NOT OBSCURED' if x in ['UNKNOWN', 'OTHER'] else x)\n",
    "X_train['DRIVER_VISION'].fillna('NOT OBSCURED', inplace=True)\n",
    "\n",
    "X_test['DRIVER_VISION']=X_test['DRIVER_VISION'].apply(lambda x: 'NOT OBSCURED' if x in ['UNKNOWN', 'OTHER'] else x)\n",
    "X_test['DRIVER_VISION'].fillna('NOT OBSCURED', inplace=True)\n",
    "\n",
    "#Use BAC result to determine whether someone is drunk, impaired, or sober\n",
    "def alcohol_use(x):\n",
    "    if x>0 and x<0.08:\n",
    "        return 'HAD BEEN DRINKING'\n",
    "    elif x>=0.08:\n",
    "        return 'IMPAIRED - ALCOHOL'\n",
    "    elif x==0:\n",
    "        return 'NORMAL'\n",
    "X_train.loc[X_train['PHYSICAL_CONDITION'].isna(), 'PHYSICAL_CONDITION']=X_train['BAC_RESULT_VALUE'].apply(alcohol_use)\n",
    "X_test.loc[X_test['PHYSICAL_CONDITION'].isna(), 'PHYSICAL_CONDITION']=X_test['BAC_RESULT_VALUE'].apply(alcohol_use)\n",
    "\n",
    "y_train.reset_index(drop=True, inplace=True)\n",
    "\n",
    "#Impute missing sex values based on distribution of data.\n",
    "n_males=X_train['SEX'].value_counts()['M']\n",
    "n_females=X_train['SEX'].value_counts()['F']\n",
    "def sex_fixer(x):\n",
    "    r=random.randint(1, n_males+n_females)\n",
    "    if r<=n_males:\n",
    "        return 'M'\n",
    "    else:\n",
    "        return 'F'\n",
    "    \n",
    "X_train.loc[X_train['SEX'].isna(), 'SEX']=X_train.loc[X_train['SEX'].isna(), 'SEX'].apply(sex_fixer)\n",
    "X_train.loc[X_train['SEX']=='X', 'SEX']=X_train.loc[X_train['SEX']=='X', 'SEX'].apply(sex_fixer)\n",
    "\n",
    "X_test.loc[X_test['SEX'].isna(), 'SEX']=X_test.loc[X_test['SEX'].isna(), 'SEX'].apply(sex_fixer)\n",
    "X_test.loc[X_test['SEX']=='X', 'SEX']=X_test.loc[X_test['SEX']=='X', 'SEX'].apply(sex_fixer)"
   ]
  },
  {
   "cell_type": "code",
   "execution_count": 57,
   "metadata": {},
   "outputs": [],
   "source": [
    "#Select the numeric and categorical columns we will use, and create encoded dataframe.\n",
    "\n",
    "ohe=OneHotEncoder(sparse=False, drop='first')\n",
    "\n",
    "X_train_categoricals=X_train[['PERSON_TYPE', 'DRIVER_ACTION', 'LIGHTING_CONDITION', 'CRASH_TYPE', 'SEX']]\n",
    "X_test_categoricals=X_test[['PERSON_TYPE', 'DRIVER_ACTION', 'LIGHTING_CONDITION', 'CRASH_TYPE', 'SEX']]\n",
    "\n",
    "X_train_categoricals_encoded=pd.DataFrame(ohe.fit_transform(X_train_categoricals))\n",
    "X_test_categoricals_encoded=pd.DataFrame(ohe.transform(X_test_categoricals))\n",
    "X_train_categoricals_encoded=X_train_categoricals_encoded.apply(np.float32)\n",
    "X_test_categoricals_encoded=X_test_categoricals_encoded.apply(np.float32)\n",
    "\n",
    "X_train_numeric=X_train[['is_driver', 'total_drivers_in_crash', 'POSTED_SPEED_LIMIT', 'Under_Influence']]\n",
    "X_train_numeric.reset_index(drop=True, inplace=True)\n",
    "X_train_numeric=X_train_numeric.apply(np.float32)\n",
    "\n",
    "X_test_numeric=X_test[['is_driver', 'total_drivers_in_crash', 'POSTED_SPEED_LIMIT', 'Under_Influence']]\n",
    "X_test_numeric.reset_index(drop=True, inplace=True)\n",
    "X_test_numeric=X_test_numeric.apply(np.float32)\n",
    "\n",
    "X_train_encoded=pd.merge(X_train_numeric, X_train_categoricals_encoded, left_index=True, right_index=True)\n",
    "X_test_encoded=pd.merge(X_test_numeric, X_test_categoricals_encoded, left_index=True, right_index=True)"
   ]
  },
  {
   "cell_type": "code",
   "execution_count": 58,
   "metadata": {},
   "outputs": [
    {
     "data": {
      "text/plain": [
       "LogisticRegression(random_state=10)"
      ]
     },
     "execution_count": 58,
     "metadata": {},
     "output_type": "execute_result"
    }
   ],
   "source": [
    "#Oversample minority class (0, which represents no injury or death) to balance data.\n",
    "sm=SMOTE(random_state=10)\n",
    "X_train_resampled, y_train_resampled=sm.fit_resample(X_train_encoded,y_train)\n",
    "\n",
    "#Fit the first model\n",
    "logreg=LogisticRegression(random_state=10)\n",
    "logreg.fit(X_train_resampled, y_train_resampled)"
   ]
  },
  {
   "cell_type": "code",
   "execution_count": 59,
   "metadata": {},
   "outputs": [
    {
     "name": "stdout",
     "output_type": "stream",
     "text": [
      "Accuracy score: 0.7000136502206785\n",
      "Precision score: 0.0746507471624669\n",
      "Recall score: 0.9997493734335839\n",
      "F1 score score: 0.13892782822961924\n"
     ]
    },
    {
     "data": {
      "text/plain": [
       "0.8752804096287629"
      ]
     },
     "execution_count": 59,
     "metadata": {},
     "output_type": "execute_result"
    }
   ],
   "source": [
    "#Display metrics\n",
    "y_preds=logreg.predict(X_test_encoded)\n",
    "print(f'Accuracy score: {accuracy_score(y_test, y_preds)}')\n",
    "print(f'Precision score: {precision_score(y_test, y_preds)}')\n",
    "print(f'Recall score: {recall_score(y_test, y_preds)}')\n",
    "print(f'F1 score score: {f1_score(y_test, y_preds)}')\n",
    "\n",
    "y_score=logreg.decision_function(X_test_encoded)\n",
    "roc_auc_score(y_test, y_score)"
   ]
  },
  {
   "cell_type": "code",
   "execution_count": 60,
   "metadata": {},
   "outputs": [],
   "source": [
    "#Optimize hyperparameters using grid search\n",
    "C=[0.001, 0.01, 0.1, 1, 10, 100, 1000]\n",
    "solver=['lbfgs', 'liblinear', 'newton-cg', 'sag', 'saga']\n",
    "parameters={'C': C, 'solver': solver}\n",
    "\n",
    "clf=GridSearchCV(logreg, parameters)\n",
    "clf.fit(X_train_resampled[:10000], y_train_resampled[:10000])\n",
    "best_c, best_solver=clf.best_params_['C'], clf.best_params_['solver']"
   ]
  },
  {
   "cell_type": "code",
   "execution_count": 61,
   "metadata": {},
   "outputs": [
    {
     "name": "stdout",
     "output_type": "stream",
     "text": [
      "Accuracy score: 0.6999590493379643\n",
      "Precision score: 0.07464613484764854\n",
      "Recall score: 0.999874686716792\n",
      "F1 score score: 0.13892105056976956\n",
      "ROC-AUC score: 0.8750673441301\n"
     ]
    },
    {
     "data": {
      "image/png": "[encoded data removed]",
      "text/plain": [
       "<Figure size 432x288 with 1 Axes>"
      ]
     },
     "metadata": {
      "needs_background": "light"
     },
     "output_type": "display_data"
    }
   ],
   "source": [
    "#Updating the logistic regression model to have the optimized parameters:\n",
    "logreg_2=LogisticRegression(C=best_c, solver=best_solver, random_state=10)\n",
    "logreg_2.fit(X_train_resampled, y_train_resampled)\n",
    "\n",
    "#Display metrics\n",
    "y_preds=logreg_2.predict(X_test_encoded)\n",
    "print(f'Accuracy score: {accuracy_score(y_test, y_preds)}')\n",
    "print(f'Precision score: {precision_score(y_test, y_preds)}')\n",
    "print(f'Recall score: {recall_score(y_test, y_preds)}')\n",
    "print(f'F1 score score: {f1_score(y_test, y_preds)}')\n",
    "\n",
    "y_score=logreg_2.decision_function(X_test_encoded)\n",
    "print(f'ROC-AUC score: {roc_auc_score(y_test, y_score)}')\n",
    "\n",
    "#Display ROC Curve\n",
    "y_predicted=logreg_2.predict_proba(X_test_encoded)[::,1]\n",
    "fpr, tpr, results=roc_curve(y_test, y_predicted)\n",
    "plt.plot(fpr, tpr)\n",
    "plt.xlabel('False Positive Rate')\n",
    "plt.ylabel('True Positive Rate')\n",
    "plt.title('ROC Curve');"
   ]
  },
  {
   "cell_type": "code",
   "execution_count": 62,
   "metadata": {},
   "outputs": [
    {
     "data": {
      "text/plain": [
       "{'is_driver': 0.6720572022352019,\n",
       " 'total_drivers_in_crash': 1.0276834782833586,\n",
       " 'POSTED_SPEED_LIMIT': 1.015288293624969,\n",
       " 'Under_Influence': 1.339577712892011,\n",
       " 'PERSON_TYPE': array([0.6720572 , 0.96532568, 0.92839244, 0.62225804, 1.89333289]),\n",
       " 'DRIVER_ACTION': array([1.2959258 , 1.07023889, 1.10034356, 1.3477003 , 0.71652983,\n",
       "        1.04854716, 0.96725524, 0.92755931, 0.86729362, 0.86691131,\n",
       "        0.99722928, 1.19888941, 0.91290744, 1.00290605, 0.9584414 ,\n",
       "        1.27148597, 1.04288694, 1.1868185 ]),\n",
       " 'LIGHTING_CONDITION': array([1.12911759, 1.11782621, 0.98758305, 0.94057684, 0.68831148]),\n",
       " 'CRASH_TYPE': array([0.00330411]),\n",
       " 'SEX': array([1.08538053])}"
      ]
     },
     "execution_count": 62,
     "metadata": {},
     "output_type": "execute_result"
    }
   ],
   "source": [
    "#Create dictionary showing model coefficients\n",
    "coefficients={}\n",
    "for n in range (len(X_train_numeric.columns)):\n",
    "    coefficients[X_train_numeric.columns[n]]=np.exp(logreg_2.coef_[0][n])\n",
    "features=X_train_categoricals.columns\n",
    "start=len(X_train_numeric.columns)\n",
    "stop=len(X_train_numeric.columns)\n",
    "for f in features:\n",
    "    stop+=len(X_train[f].value_counts())-1\n",
    "    coefficients[f]=np.exp(logreg_2.coef_[0][start:stop])\n",
    "    start=stop\n",
    "\n",
    "coefficients"
   ]
  },
  {
   "cell_type": "markdown",
   "metadata": {},
   "source": [
    "## Findings from model:"
   ]
  },
  {
   "cell_type": "code",
   "execution_count": 63,
   "metadata": {},
   "outputs": [
    {
     "name": "stdout",
     "output_type": "stream",
     "text": [
      "Drivers experience a 33.0% reduction in their odds of death/severe injury compared to passengers and cyclists.\n",
      "A driver being under the influence raises the odds of a death/severe injury occurring by 34.0%.\n",
      "Men have 9.0% higher odds of death/severe injury than women.\n"
     ]
    }
   ],
   "source": [
    "driver_reduction=round(1-coefficients['is_driver'], 2)*100\n",
    "dui_increase=round(coefficients['Under_Influence']-1, 2)*100\n",
    "sex_increase=round(coefficients['SEX'][0]-1, 2)*100\n",
    "\n",
    "print(f'Drivers experience a {driver_reduction}% reduction in their odds of death/severe injury compared to passengers and cyclists.')\n",
    "print(f'A driver being under the influence raises the odds of a death/severe injury occurring by {dui_increase}%.')\n",
    "print(f'Men have {sex_increase}% higher odds of death/severe injury than women.')"
   ]
  }
 ],
 "metadata": {
  "kernelspec": {
   "display_name": "learn-env",
   "language": "python",
   "name": "python3"
  },
  "language_info": {
   "codemirror_mode": {
    "name": "ipython",
    "version": 3
   },
   "file_extension": ".py",
   "mimetype": "text/x-python",
   "name": "python",
   "nbconvert_exporter": "python",
   "pygments_lexer": "ipython3",
   "version": "3.8.5"
  },
  "orig_nbformat": 4
 },
 "nbformat": 4,
 "nbformat_minor": 2
}
